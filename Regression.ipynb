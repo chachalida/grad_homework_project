{
 "cells": [
  {
   "cell_type": "markdown",
   "id": "7d8717ec",
   "metadata": {},
   "source": [
    "In this analysis, I would like to determine factors that make the laptop prices differ. The relationship of observations was independent and we assumed that the relationship was linear. So, we would like to fit the data with linear regression."
   ]
  },
  {
   "cell_type": "code",
   "execution_count": 78,
   "id": "45dd80e1",
   "metadata": {},
   "outputs": [],
   "source": [
    "import numpy as np\n",
    "import pandas as pd\n",
    "import matplotlib.pyplot as plt\n",
    "import seaborn as sns\n",
    "%matplotlib inline"
   ]
  },
  {
   "cell_type": "code",
   "execution_count": 79,
   "id": "d258385d",
   "metadata": {},
   "outputs": [
    {
     "data": {
      "text/html": [
       "<div>\n",
       "<style scoped>\n",
       "    .dataframe tbody tr th:only-of-type {\n",
       "        vertical-align: middle;\n",
       "    }\n",
       "\n",
       "    .dataframe tbody tr th {\n",
       "        vertical-align: top;\n",
       "    }\n",
       "\n",
       "    .dataframe thead th {\n",
       "        text-align: right;\n",
       "    }\n",
       "</style>\n",
       "<table border=\"1\" class=\"dataframe\">\n",
       "  <thead>\n",
       "    <tr style=\"text-align: right;\">\n",
       "      <th></th>\n",
       "      <th>Unnamed: 0</th>\n",
       "      <th>sale</th>\n",
       "      <th>price</th>\n",
       "      <th>ghz</th>\n",
       "      <th>ram</th>\n",
       "      <th>hd</th>\n",
       "      <th>ssd</th>\n",
       "      <th>BIN</th>\n",
       "    </tr>\n",
       "  </thead>\n",
       "  <tbody>\n",
       "    <tr>\n",
       "      <th>0</th>\n",
       "      <td>1</td>\n",
       "      <td>SOLD</td>\n",
       "      <td>404.99</td>\n",
       "      <td>2.7</td>\n",
       "      <td>8.0</td>\n",
       "      <td>NaN</td>\n",
       "      <td>SSD</td>\n",
       "      <td>False</td>\n",
       "    </tr>\n",
       "    <tr>\n",
       "      <th>1</th>\n",
       "      <td>2</td>\n",
       "      <td>SOLD</td>\n",
       "      <td>355.00</td>\n",
       "      <td>2.5</td>\n",
       "      <td>8.0</td>\n",
       "      <td>128.0</td>\n",
       "      <td>SSD</td>\n",
       "      <td>False</td>\n",
       "    </tr>\n",
       "    <tr>\n",
       "      <th>2</th>\n",
       "      <td>3</td>\n",
       "      <td>SOLD</td>\n",
       "      <td>449.99</td>\n",
       "      <td>2.6</td>\n",
       "      <td>4.0</td>\n",
       "      <td>128.0</td>\n",
       "      <td>No</td>\n",
       "      <td>True</td>\n",
       "    </tr>\n",
       "    <tr>\n",
       "      <th>3</th>\n",
       "      <td>4</td>\n",
       "      <td>NOT SOLD</td>\n",
       "      <td>499.99</td>\n",
       "      <td>2.5</td>\n",
       "      <td>4.0</td>\n",
       "      <td>320.0</td>\n",
       "      <td>No</td>\n",
       "      <td>True</td>\n",
       "    </tr>\n",
       "    <tr>\n",
       "      <th>4</th>\n",
       "      <td>5</td>\n",
       "      <td>NOT SOLD</td>\n",
       "      <td>199.99</td>\n",
       "      <td>NaN</td>\n",
       "      <td>NaN</td>\n",
       "      <td>NaN</td>\n",
       "      <td>No</td>\n",
       "      <td>True</td>\n",
       "    </tr>\n",
       "  </tbody>\n",
       "</table>\n",
       "</div>"
      ],
      "text/plain": [
       "   Unnamed: 0      sale   price  ghz  ram     hd  ssd    BIN\n",
       "0           1      SOLD  404.99  2.7  8.0    NaN  SSD  False\n",
       "1           2      SOLD  355.00  2.5  8.0  128.0  SSD  False\n",
       "2           3      SOLD  449.99  2.6  4.0  128.0   No   True\n",
       "3           4  NOT SOLD  499.99  2.5  4.0  320.0   No   True\n",
       "4           5  NOT SOLD  199.99  NaN  NaN    NaN   No   True"
      ]
     },
     "execution_count": 79,
     "metadata": {},
     "output_type": "execute_result"
    }
   ],
   "source": [
    "# Import laptop data\n",
    "data = pd.read_csv(\"laptopData.csv\")\n",
    "data.head()"
   ]
  },
  {
   "cell_type": "code",
   "execution_count": 80,
   "id": "f34e9bb8",
   "metadata": {},
   "outputs": [
    {
     "data": {
      "text/plain": [
       "(220, 8)"
      ]
     },
     "execution_count": 80,
     "metadata": {},
     "output_type": "execute_result"
    }
   ],
   "source": [
    "data.shape"
   ]
  },
  {
   "cell_type": "code",
   "execution_count": 81,
   "id": "14261163",
   "metadata": {},
   "outputs": [],
   "source": [
    "# Drop the first columns (running number)\n",
    "data.drop(['Unnamed: 0'], axis = 1, inplace = True)"
   ]
  },
  {
   "cell_type": "code",
   "execution_count": 82,
   "id": "3ed33f32",
   "metadata": {},
   "outputs": [
    {
     "data": {
      "text/plain": [
       "sale      object\n",
       "price    float64\n",
       "ghz      float64\n",
       "ram      float64\n",
       "hd       float64\n",
       "ssd       object\n",
       "BIN         bool\n",
       "dtype: object"
      ]
     },
     "execution_count": 82,
     "metadata": {},
     "output_type": "execute_result"
    }
   ],
   "source": [
    "# Data Type of each column\n",
    "data.dtypes"
   ]
  },
  {
   "cell_type": "markdown",
   "id": "1a9fa6b8",
   "metadata": {},
   "source": [
    "## Distribution of each variable\n",
    "Draw histogram of each variable and determine the distribution"
   ]
  },
  {
   "cell_type": "code",
   "execution_count": 83,
   "id": "771de02a",
   "metadata": {},
   "outputs": [],
   "source": [
    "def draw_hist(df, variables, n_rows, n_cols):\n",
    "    \"\"\"\n",
    "    Function: draw histogram of all variables\n",
    "              in data Frame\n",
    "              \n",
    "    Parameters\n",
    "    ----------\n",
    "    df: DataFrame data\n",
    "    variables: list variables in the plot\n",
    "    n_rows: int number of rows that will be shown\n",
    "    n_cols: int number of columns that will be shown\n",
    "    \n",
    "    Return\n",
    "    ---------\n",
    "    Plots from listed variables\n",
    "    \"\"\"\n",
    "    fig = plt.figure()\n",
    "    for i, var in enumerate(variables):\n",
    "        ax = fig.add_subplot(n_rows, n_cols, i+1)\n",
    "        if df[var].dtypes == np.float64:\n",
    "            sns.histplot(data = df, x = var, ax = ax)\n",
    "        else:\n",
    "            sns.countplot(data = df, x = var, ax = ax)\n",
    "        ax.set_title(var)\n",
    "    plt.show()"
   ]
  },
  {
   "cell_type": "code",
   "execution_count": 84,
   "id": "76f4235b",
   "metadata": {},
   "outputs": [
    {
     "data": {
      "image/png": "[encoded data removed]",
      "text/plain": [
       "<Figure size 1080x1080 with 7 Axes>"
      ]
     },
     "metadata": {
      "needs_background": "light"
     },
     "output_type": "display_data"
    }
   ],
   "source": [
    "plt.rcParams['figure.figsize'] = [15,15]\n",
    "draw_hist(data, data.columns, 3, 3)"
   ]
  },
  {
   "cell_type": "code",
   "execution_count": 124,
   "id": "786d5d3f",
   "metadata": {},
   "outputs": [
    {
     "data": {
      "image/png": "[encoded data removed]",
      "text/plain": [
       "<Figure size 576x576 with 1 Axes>"
      ]
     },
     "metadata": {
      "needs_background": "light"
     },
     "output_type": "display_data"
    }
   ],
   "source": [
    "plt.rcParams['figure.figsize'] = [8,8]\n",
    "plt.rcParams.update({'font.size': 15})\n",
    "sns.histplot(data.price)\n",
    "plt.savefig('price_hist.png')\n",
    "plt.show()"
   ]
  },
  {
   "cell_type": "markdown",
   "id": "2a644f28",
   "metadata": {},
   "source": [
    "According to the histogram, we have captured some point\n",
    "- There are some computer that the price are too small.\n",
    "- Most computers contain 2.5 ghz of speed of processor.\n",
    "- Most of computers in this data set contained 4 GB of ram.\n",
    "- Amount of hard drive space between 100 and 200 are the most popular zone.\n",
    "- There are less solid state hard drive than magnetic hard drive.\n",
    "- Most of listed price are not for auction."
   ]
  },
  {
   "cell_type": "markdown",
   "id": "d3edb621",
   "metadata": {},
   "source": [
    "## Scatter plot or box plot against \"price\""
   ]
  },
  {
   "cell_type": "code",
   "execution_count": 184,
   "id": "094ded15",
   "metadata": {},
   "outputs": [],
   "source": [
    "def draw_outcome_plots(df, var, outcome, n_rows, n_cols, size = [15,10]):\n",
    "    \"\"\"\n",
    "    Function: Draw scatter plot or box plot\n",
    "              of outcome against other variables\n",
    "    \n",
    "    Parameters\n",
    "    ----------\n",
    "    df: DataFrame data that we will draw\n",
    "    var: List variables that would like to plot\n",
    "    outcome: String outcome of interest\n",
    "    n_rows: int number of rows that will be shown\n",
    "    n_cols: int number of columns that will be shown\n",
    "    \n",
    "    Return\n",
    "    ----------\n",
    "    Plot of outcome against listed variables\n",
    "    \"\"\"\n",
    "    \n",
    "    fig = plt.figure(figsize=(size[0],size[1]))\n",
    "#     var = df.columns.drop(outcome)\n",
    "    for i, var in enumerate(var):\n",
    "        ax = fig.add_subplot(n_rows, n_cols, i+1)\n",
    "        if len(df[var].unique()) > 5:\n",
    "            sns.scatterplot(x = var, y = outcome, data = df, ax = ax)\n",
    "        else:\n",
    "            sns.boxplot(x = var, y = outcome, data = df, ax = ax)\n",
    "        ax.set_title(var)\n",
    "    fig.suptitle('Scatter and Box Plots by ' + outcome)\n",
    "    return fig"
   ]
  },
  {
   "cell_type": "code",
   "execution_count": 187,
   "id": "f489395f",
   "metadata": {},
   "outputs": [
    {
     "data": {
      "image/png": "[encoded data removed]",
      "text/plain": [
       "<Figure size 1080x720 with 6 Axes>"
      ]
     },
     "metadata": {
      "needs_background": "light"
     },
     "output_type": "display_data"
    }
   ],
   "source": [
    "plt.rcParams['figure.figsize'] = [15,15]\n",
    "plt.rcParams.update({'font.size': 12})\n",
    "var = data.columns.drop('price')\n",
    "fig1 = draw_outcome_plots(data, var, 'price', 2,3)"
   ]
  },
  {
   "cell_type": "code",
   "execution_count": 215,
   "id": "68a3e189",
   "metadata": {},
   "outputs": [
    {
     "data": {
      "image/png": "[encoded data removed]",
      "text/plain": [
       "<Figure size 1080x1080 with 4 Axes>"
      ]
     },
     "metadata": {
      "needs_background": "light"
     },
     "output_type": "display_data"
    }
   ],
   "source": [
    "plt.rcParams.update({'font.size': 15})\n",
    "fig = draw_outcome_plots(data,\n",
    "        ['ghz','ram','BIN'], 'price', 2,2, size = [15,15])\n",
    "ax = fig.add_subplot(2, 2, 4)\n",
    "sns.scatterplot(data = data, x = 'hd',\n",
    "        y = 'price', hue = 'ssd', ax = ax)\n",
    "fig.savefig('scatter_plot.png')"
   ]
  },
  {
   "cell_type": "markdown",
   "id": "95a70d46",
   "metadata": {},
   "source": [
    "- We cannot conclude the relationship from the plot for speed of processor or amount of hard drive space.\n",
    "- But we can see that the higher median of ram can cause higher price.\n",
    "- From box plot of hard drive, hard drive with solid state tend to be more expensive than magnetic one.\n",
    "- Lastly, the price of computers with buy it now option are likely to be higher than auction option."
   ]
  },
  {
   "cell_type": "code",
   "execution_count": 87,
   "id": "e8ada841",
   "metadata": {},
   "outputs": [
    {
     "data": {
      "text/html": [
       "<div>\n",
       "<style scoped>\n",
       "    .dataframe tbody tr th:only-of-type {\n",
       "        vertical-align: middle;\n",
       "    }\n",
       "\n",
       "    .dataframe tbody tr th {\n",
       "        vertical-align: top;\n",
       "    }\n",
       "\n",
       "    .dataframe thead th {\n",
       "        text-align: right;\n",
       "    }\n",
       "</style>\n",
       "<table border=\"1\" class=\"dataframe\">\n",
       "  <thead>\n",
       "    <tr style=\"text-align: right;\">\n",
       "      <th></th>\n",
       "      <th>price</th>\n",
       "      <th>ghz</th>\n",
       "      <th>ram</th>\n",
       "      <th>hd</th>\n",
       "      <th>BIN</th>\n",
       "    </tr>\n",
       "  </thead>\n",
       "  <tbody>\n",
       "    <tr>\n",
       "      <th>price</th>\n",
       "      <td>1.000000</td>\n",
       "      <td>0.200020</td>\n",
       "      <td>0.210697</td>\n",
       "      <td>-0.158990</td>\n",
       "      <td>0.173600</td>\n",
       "    </tr>\n",
       "    <tr>\n",
       "      <th>ghz</th>\n",
       "      <td>0.200020</td>\n",
       "      <td>1.000000</td>\n",
       "      <td>0.341011</td>\n",
       "      <td>-0.102657</td>\n",
       "      <td>-0.007366</td>\n",
       "    </tr>\n",
       "    <tr>\n",
       "      <th>ram</th>\n",
       "      <td>0.210697</td>\n",
       "      <td>0.341011</td>\n",
       "      <td>1.000000</td>\n",
       "      <td>-0.041576</td>\n",
       "      <td>-0.018053</td>\n",
       "    </tr>\n",
       "    <tr>\n",
       "      <th>hd</th>\n",
       "      <td>-0.158990</td>\n",
       "      <td>-0.102657</td>\n",
       "      <td>-0.041576</td>\n",
       "      <td>1.000000</td>\n",
       "      <td>-0.160717</td>\n",
       "    </tr>\n",
       "    <tr>\n",
       "      <th>BIN</th>\n",
       "      <td>0.173600</td>\n",
       "      <td>-0.007366</td>\n",
       "      <td>-0.018053</td>\n",
       "      <td>-0.160717</td>\n",
       "      <td>1.000000</td>\n",
       "    </tr>\n",
       "  </tbody>\n",
       "</table>\n",
       "</div>"
      ],
      "text/plain": [
       "          price       ghz       ram        hd       BIN\n",
       "price  1.000000  0.200020  0.210697 -0.158990  0.173600\n",
       "ghz    0.200020  1.000000  0.341011 -0.102657 -0.007366\n",
       "ram    0.210697  0.341011  1.000000 -0.041576 -0.018053\n",
       "hd    -0.158990 -0.102657 -0.041576  1.000000 -0.160717\n",
       "BIN    0.173600 -0.007366 -0.018053 -0.160717  1.000000"
      ]
     },
     "execution_count": 87,
     "metadata": {},
     "output_type": "execute_result"
    }
   ],
   "source": [
    "data.corr()"
   ]
  },
  {
   "cell_type": "code",
   "execution_count": 88,
   "id": "b0f9fb27",
   "metadata": {},
   "outputs": [
    {
     "data": {
      "text/html": [
       "<div>\n",
       "<style scoped>\n",
       "    .dataframe tbody tr th:only-of-type {\n",
       "        vertical-align: middle;\n",
       "    }\n",
       "\n",
       "    .dataframe tbody tr th {\n",
       "        vertical-align: top;\n",
       "    }\n",
       "\n",
       "    .dataframe thead th {\n",
       "        text-align: right;\n",
       "    }\n",
       "</style>\n",
       "<table border=\"1\" class=\"dataframe\">\n",
       "  <thead>\n",
       "    <tr style=\"text-align: right;\">\n",
       "      <th></th>\n",
       "      <th>count</th>\n",
       "      <th>mean</th>\n",
       "      <th>std</th>\n",
       "      <th>min</th>\n",
       "      <th>25%</th>\n",
       "      <th>50%</th>\n",
       "      <th>75%</th>\n",
       "      <th>max</th>\n",
       "    </tr>\n",
       "  </thead>\n",
       "  <tbody>\n",
       "    <tr>\n",
       "      <th>price</th>\n",
       "      <td>220.0</td>\n",
       "      <td>364.16</td>\n",
       "      <td>132.30</td>\n",
       "      <td>1.0</td>\n",
       "      <td>299.98</td>\n",
       "      <td>357.5</td>\n",
       "      <td>449.99</td>\n",
       "      <td>699.99</td>\n",
       "    </tr>\n",
       "    <tr>\n",
       "      <th>ghz</th>\n",
       "      <td>171.0</td>\n",
       "      <td>2.57</td>\n",
       "      <td>0.11</td>\n",
       "      <td>2.5</td>\n",
       "      <td>2.50</td>\n",
       "      <td>2.5</td>\n",
       "      <td>2.60</td>\n",
       "      <td>3.20</td>\n",
       "    </tr>\n",
       "    <tr>\n",
       "      <th>ram</th>\n",
       "      <td>177.0</td>\n",
       "      <td>5.81</td>\n",
       "      <td>2.14</td>\n",
       "      <td>2.0</td>\n",
       "      <td>4.00</td>\n",
       "      <td>4.0</td>\n",
       "      <td>8.00</td>\n",
       "      <td>16.00</td>\n",
       "    </tr>\n",
       "    <tr>\n",
       "      <th>hd</th>\n",
       "      <td>150.0</td>\n",
       "      <td>205.16</td>\n",
       "      <td>105.68</td>\n",
       "      <td>80.0</td>\n",
       "      <td>128.00</td>\n",
       "      <td>160.0</td>\n",
       "      <td>300.00</td>\n",
       "      <td>512.00</td>\n",
       "    </tr>\n",
       "  </tbody>\n",
       "</table>\n",
       "</div>"
      ],
      "text/plain": [
       "       count    mean     std   min     25%    50%     75%     max\n",
       "price  220.0  364.16  132.30   1.0  299.98  357.5  449.99  699.99\n",
       "ghz    171.0    2.57    0.11   2.5    2.50    2.5    2.60    3.20\n",
       "ram    177.0    5.81    2.14   2.0    4.00    4.0    8.00   16.00\n",
       "hd     150.0  205.16  105.68  80.0  128.00  160.0  300.00  512.00"
      ]
     },
     "execution_count": 88,
     "metadata": {},
     "output_type": "execute_result"
    }
   ],
   "source": [
    "data.describe().round(2).transpose()"
   ]
  },
  {
   "cell_type": "code",
   "execution_count": 118,
   "id": "3221b374",
   "metadata": {},
   "outputs": [
    {
     "data": {
      "text/html": [
       "<div>\n",
       "<style scoped>\n",
       "    .dataframe tbody tr th:only-of-type {\n",
       "        vertical-align: middle;\n",
       "    }\n",
       "\n",
       "    .dataframe tbody tr th {\n",
       "        vertical-align: top;\n",
       "    }\n",
       "\n",
       "    .dataframe thead th {\n",
       "        text-align: right;\n",
       "    }\n",
       "</style>\n",
       "<table border=\"1\" class=\"dataframe\">\n",
       "  <thead>\n",
       "    <tr style=\"text-align: right;\">\n",
       "      <th></th>\n",
       "      <th>sale</th>\n",
       "      <th>price</th>\n",
       "      <th>ghz</th>\n",
       "      <th>ram</th>\n",
       "      <th>hd</th>\n",
       "      <th>ssd</th>\n",
       "      <th>BIN</th>\n",
       "    </tr>\n",
       "  </thead>\n",
       "  <tbody>\n",
       "    <tr>\n",
       "      <th>0</th>\n",
       "      <td>SOLD</td>\n",
       "      <td>300.0</td>\n",
       "      <td>2.5</td>\n",
       "      <td>4.0</td>\n",
       "      <td>128.0</td>\n",
       "      <td>No</td>\n",
       "      <td>True</td>\n",
       "    </tr>\n",
       "  </tbody>\n",
       "</table>\n",
       "</div>"
      ],
      "text/plain": [
       "   sale  price  ghz  ram     hd ssd   BIN\n",
       "0  SOLD  300.0  2.5  4.0  128.0  No  True"
      ]
     },
     "execution_count": 118,
     "metadata": {},
     "output_type": "execute_result"
    }
   ],
   "source": [
    "data.mode()"
   ]
  },
  {
   "cell_type": "code",
   "execution_count": 89,
   "id": "6c00151f",
   "metadata": {},
   "outputs": [],
   "source": [
    "def get_categorical_percentages(df):\n",
    "    cat_df = df.select_dtypes(exclude=np.number)\n",
    "    for var in cat_df.columns:\n",
    "        perc = df[var].value_counts() / df[var].count()\n",
    "        print(var)\n",
    "        print(perc)"
   ]
  },
  {
   "cell_type": "code",
   "execution_count": 90,
   "id": "54f000b1",
   "metadata": {},
   "outputs": [
    {
     "name": "stdout",
     "output_type": "stream",
     "text": [
      "sale\n",
      "SOLD        0.718182\n",
      "NOT SOLD    0.281818\n",
      "Name: sale, dtype: float64\n",
      "ssd\n",
      "No     0.636364\n",
      "SSD    0.363636\n",
      "Name: ssd, dtype: float64\n",
      "BIN\n",
      "True     0.540909\n",
      "False    0.459091\n",
      "Name: BIN, dtype: float64\n"
     ]
    }
   ],
   "source": [
    "get_categorical_percentages(data)"
   ]
  },
  {
   "cell_type": "markdown",
   "id": "7b4e5565",
   "metadata": {},
   "source": [
    "## Data Cleaning"
   ]
  },
  {
   "cell_type": "code",
   "execution_count": 214,
   "id": "69eef769",
   "metadata": {},
   "outputs": [
    {
     "data": {
      "text/plain": [
       "0.4181818181818182"
      ]
     },
     "execution_count": 214,
     "metadata": {},
     "output_type": "execute_result"
    }
   ],
   "source": [
    "# % of missing data at least one variable\n",
    "missing_value = data.isna()\\\n",
    "    .sum(axis = 1).value_counts()/data.shape[0]\n",
    "1- missing_value[0]"
   ]
  },
  {
   "cell_type": "code",
   "execution_count": 91,
   "id": "e594fe83",
   "metadata": {},
   "outputs": [
    {
     "data": {
      "text/plain": [
       "sale     0.0000\n",
       "price    0.0000\n",
       "ghz      0.2227\n",
       "ram      0.1955\n",
       "hd       0.3182\n",
       "ssd      0.0000\n",
       "BIN      0.0000\n",
       "dtype: float64"
      ]
     },
     "execution_count": 91,
     "metadata": {},
     "output_type": "execute_result"
    }
   ],
   "source": [
    "# % of missing data in each variable\n",
    "round(data.isna().sum()/data.shape[0],4)"
   ]
  },
  {
   "cell_type": "code",
   "execution_count": 92,
   "id": "25984cfe",
   "metadata": {},
   "outputs": [
    {
     "data": {
      "text/html": [
       "<div>\n",
       "<style scoped>\n",
       "    .dataframe tbody tr th:only-of-type {\n",
       "        vertical-align: middle;\n",
       "    }\n",
       "\n",
       "    .dataframe tbody tr th {\n",
       "        vertical-align: top;\n",
       "    }\n",
       "\n",
       "    .dataframe thead th {\n",
       "        text-align: right;\n",
       "    }\n",
       "</style>\n",
       "<table border=\"1\" class=\"dataframe\">\n",
       "  <thead>\n",
       "    <tr style=\"text-align: right;\">\n",
       "      <th></th>\n",
       "      <th>sale</th>\n",
       "      <th>price</th>\n",
       "      <th>ghz</th>\n",
       "      <th>ram</th>\n",
       "      <th>hd</th>\n",
       "      <th>ssd</th>\n",
       "      <th>BIN</th>\n",
       "    </tr>\n",
       "  </thead>\n",
       "  <tbody>\n",
       "    <tr>\n",
       "      <th>72</th>\n",
       "      <td>NOT SOLD</td>\n",
       "      <td>1.0</td>\n",
       "      <td>2.5</td>\n",
       "      <td>4.0</td>\n",
       "      <td>320.0</td>\n",
       "      <td>No</td>\n",
       "      <td>True</td>\n",
       "    </tr>\n",
       "    <tr>\n",
       "      <th>73</th>\n",
       "      <td>NOT SOLD</td>\n",
       "      <td>4.0</td>\n",
       "      <td>2.5</td>\n",
       "      <td>4.0</td>\n",
       "      <td>320.0</td>\n",
       "      <td>No</td>\n",
       "      <td>True</td>\n",
       "    </tr>\n",
       "    <tr>\n",
       "      <th>83</th>\n",
       "      <td>NOT SOLD</td>\n",
       "      <td>1.0</td>\n",
       "      <td>2.8</td>\n",
       "      <td>8.0</td>\n",
       "      <td>160.0</td>\n",
       "      <td>No</td>\n",
       "      <td>True</td>\n",
       "    </tr>\n",
       "    <tr>\n",
       "      <th>86</th>\n",
       "      <td>NOT SOLD</td>\n",
       "      <td>1.0</td>\n",
       "      <td>2.8</td>\n",
       "      <td>8.0</td>\n",
       "      <td>160.0</td>\n",
       "      <td>No</td>\n",
       "      <td>True</td>\n",
       "    </tr>\n",
       "    <tr>\n",
       "      <th>202</th>\n",
       "      <td>SOLD</td>\n",
       "      <td>1.0</td>\n",
       "      <td>2.5</td>\n",
       "      <td>NaN</td>\n",
       "      <td>NaN</td>\n",
       "      <td>No</td>\n",
       "      <td>True</td>\n",
       "    </tr>\n",
       "  </tbody>\n",
       "</table>\n",
       "</div>"
      ],
      "text/plain": [
       "         sale  price  ghz  ram     hd ssd   BIN\n",
       "72   NOT SOLD    1.0  2.5  4.0  320.0  No  True\n",
       "73   NOT SOLD    4.0  2.5  4.0  320.0  No  True\n",
       "83   NOT SOLD    1.0  2.8  8.0  160.0  No  True\n",
       "86   NOT SOLD    1.0  2.8  8.0  160.0  No  True\n",
       "202      SOLD    1.0  2.5  NaN    NaN  No  True"
      ]
     },
     "execution_count": 92,
     "metadata": {},
     "output_type": "execute_result"
    }
   ],
   "source": [
    "data[data.price <= 100]"
   ]
  },
  {
   "cell_type": "markdown",
   "id": "2ba10924",
   "metadata": {},
   "source": [
    "1. There are 4 computers that the price are too low (could be outliers). I don't include these data in my analysis."
   ]
  },
  {
   "cell_type": "code",
   "execution_count": 143,
   "id": "44cfd9ad",
   "metadata": {},
   "outputs": [],
   "source": [
    "# remove price <= 10\n",
    "data_c = data.copy()\n",
    "data_c = data[~data.index.isin(data[data.price <= 10].index)]"
   ]
  },
  {
   "cell_type": "markdown",
   "id": "615dde98",
   "metadata": {},
   "source": [
    "2. There are some NAs values in ghz, ram, and hd. I will remove data which appear 3 NAs for at the same time."
   ]
  },
  {
   "cell_type": "code",
   "execution_count": 144,
   "id": "5d206ea1",
   "metadata": {},
   "outputs": [
    {
     "data": {
      "text/plain": [
       "(19, 7)"
      ]
     },
     "execution_count": 144,
     "metadata": {},
     "output_type": "execute_result"
    }
   ],
   "source": [
    "data_all_na = data_c[(data_c.ghz.isna()) &\\\n",
    "                     (data_c.hd.isna()) &\\\n",
    "                     (data_c.ram.isna())]\n",
    "data_all_na.shape"
   ]
  },
  {
   "cell_type": "code",
   "execution_count": 145,
   "id": "18a6299d",
   "metadata": {},
   "outputs": [
    {
     "data": {
      "text/plain": [
       "0.0864"
      ]
     },
     "execution_count": 145,
     "metadata": {},
     "output_type": "execute_result"
    }
   ],
   "source": [
    "# % of missing all data at a time\n",
    "round(data_all_na.shape[0]/data.shape[0], 4)"
   ]
  },
  {
   "cell_type": "markdown",
   "id": "ab60c3cc",
   "metadata": {},
   "source": [
    "There are 19 data points that have NAs for ghz, hd, and ram in the same time."
   ]
  },
  {
   "cell_type": "code",
   "execution_count": 146,
   "id": "c25894c8",
   "metadata": {},
   "outputs": [
    {
     "data": {
      "image/png": "[encoded data removed]",
      "text/plain": [
       "<Figure size 1080x1080 with 7 Axes>"
      ]
     },
     "metadata": {
      "needs_background": "light"
     },
     "output_type": "display_data"
    }
   ],
   "source": [
    "plt.rcParams['figure.figsize'] = [15,15]\n",
    "draw_hist(data_all_na,data_all_na.columns, 3,3)"
   ]
  },
  {
   "cell_type": "markdown",
   "id": "59ffc8f7",
   "metadata": {},
   "source": [
    "Draw prices against sale, ssd and BIN to see the trend."
   ]
  },
  {
   "cell_type": "code",
   "execution_count": 147,
   "id": "17a672a8",
   "metadata": {},
   "outputs": [
    {
     "data": {
      "image/png": "[encoded data removed]",
      "text/plain": [
       "<Figure size 1080x720 with 3 Axes>"
      ]
     },
     "metadata": {
      "needs_background": "light"
     },
     "output_type": "display_data"
    }
   ],
   "source": [
    "plt.rcParams['figure.figsize'] = [5,15]\n",
    "var = ['sale', 'ssd', 'BIN']\n",
    "draw_outcome_plots(data, var, 'price', 1,3)"
   ]
  },
  {
   "cell_type": "markdown",
   "id": "715a2ae8",
   "metadata": {},
   "source": [
    "We can see that the median of price with solid state hard drive is higher than magnetic hard drive. While the price with auction option is lower than that in buy it now."
   ]
  },
  {
   "cell_type": "code",
   "execution_count": 148,
   "id": "695e7486",
   "metadata": {},
   "outputs": [],
   "source": [
    "# Remove price < 10\n",
    "data_c = data_c[~data_c.index.\\\n",
    "                isin(data_all_na.index)]"
   ]
  },
  {
   "cell_type": "code",
   "execution_count": 149,
   "id": "353a5ba9",
   "metadata": {},
   "outputs": [
    {
     "data": {
      "text/plain": [
       "(196, 7)"
      ]
     },
     "execution_count": 149,
     "metadata": {},
     "output_type": "execute_result"
    }
   ],
   "source": [
    "data_c.shape"
   ]
  },
  {
   "cell_type": "code",
   "execution_count": 150,
   "id": "b046c6be",
   "metadata": {},
   "outputs": [
    {
     "data": {
      "text/plain": [
       "sale      0\n",
       "price     0\n",
       "ghz      49\n",
       "ram      43\n",
       "hd       70\n",
       "ssd       0\n",
       "BIN       0\n",
       "dtype: int64"
      ]
     },
     "execution_count": 150,
     "metadata": {},
     "output_type": "execute_result"
    }
   ],
   "source": [
    "data.isna().sum()"
   ]
  },
  {
   "cell_type": "markdown",
   "id": "9722d969",
   "metadata": {},
   "source": [
    "3. Use mode to impute missing data"
   ]
  },
  {
   "cell_type": "code",
   "execution_count": 152,
   "id": "ad23cd50",
   "metadata": {},
   "outputs": [],
   "source": [
    "data_c = data_c.fillna(data_c.mode().iloc[0])"
   ]
  },
  {
   "cell_type": "markdown",
   "id": "af8c9c25",
   "metadata": {},
   "source": [
    "4. Remove sale from data list because the median of both levels are not different and do not imply the price."
   ]
  },
  {
   "cell_type": "code",
   "execution_count": 153,
   "id": "730b7e84",
   "metadata": {},
   "outputs": [],
   "source": [
    "data_c = data_c.drop(['sale'], axis = 1)"
   ]
  },
  {
   "cell_type": "markdown",
   "id": "12f2a40d",
   "metadata": {},
   "source": [
    "5. Convert string into number"
   ]
  },
  {
   "cell_type": "code",
   "execution_count": 154,
   "id": "65e3b00a",
   "metadata": {},
   "outputs": [],
   "source": [
    "data_c = pd.get_dummies(data_c).drop(columns = ['ssd_No'], axis = 1)\n",
    "data_c['BIN'] = data_c['BIN'].astype(int)"
   ]
  },
  {
   "cell_type": "code",
   "execution_count": 155,
   "id": "6a66fb4f",
   "metadata": {},
   "outputs": [
    {
     "data": {
      "text/html": [
       "<div>\n",
       "<style scoped>\n",
       "    .dataframe tbody tr th:only-of-type {\n",
       "        vertical-align: middle;\n",
       "    }\n",
       "\n",
       "    .dataframe tbody tr th {\n",
       "        vertical-align: top;\n",
       "    }\n",
       "\n",
       "    .dataframe thead th {\n",
       "        text-align: right;\n",
       "    }\n",
       "</style>\n",
       "<table border=\"1\" class=\"dataframe\">\n",
       "  <thead>\n",
       "    <tr style=\"text-align: right;\">\n",
       "      <th></th>\n",
       "      <th>price</th>\n",
       "      <th>ghz</th>\n",
       "      <th>ram</th>\n",
       "      <th>hd</th>\n",
       "      <th>BIN</th>\n",
       "      <th>ssd_SSD</th>\n",
       "    </tr>\n",
       "  </thead>\n",
       "  <tbody>\n",
       "    <tr>\n",
       "      <th>0</th>\n",
       "      <td>404.99</td>\n",
       "      <td>2.7</td>\n",
       "      <td>8.0</td>\n",
       "      <td>128.0</td>\n",
       "      <td>0</td>\n",
       "      <td>1</td>\n",
       "    </tr>\n",
       "    <tr>\n",
       "      <th>1</th>\n",
       "      <td>355.00</td>\n",
       "      <td>2.5</td>\n",
       "      <td>8.0</td>\n",
       "      <td>128.0</td>\n",
       "      <td>0</td>\n",
       "      <td>1</td>\n",
       "    </tr>\n",
       "    <tr>\n",
       "      <th>2</th>\n",
       "      <td>449.99</td>\n",
       "      <td>2.6</td>\n",
       "      <td>4.0</td>\n",
       "      <td>128.0</td>\n",
       "      <td>1</td>\n",
       "      <td>0</td>\n",
       "    </tr>\n",
       "    <tr>\n",
       "      <th>3</th>\n",
       "      <td>499.99</td>\n",
       "      <td>2.5</td>\n",
       "      <td>4.0</td>\n",
       "      <td>320.0</td>\n",
       "      <td>1</td>\n",
       "      <td>0</td>\n",
       "    </tr>\n",
       "    <tr>\n",
       "      <th>5</th>\n",
       "      <td>699.95</td>\n",
       "      <td>2.5</td>\n",
       "      <td>4.0</td>\n",
       "      <td>128.0</td>\n",
       "      <td>1</td>\n",
       "      <td>1</td>\n",
       "    </tr>\n",
       "  </tbody>\n",
       "</table>\n",
       "</div>"
      ],
      "text/plain": [
       "    price  ghz  ram     hd  BIN  ssd_SSD\n",
       "0  404.99  2.7  8.0  128.0    0        1\n",
       "1  355.00  2.5  8.0  128.0    0        1\n",
       "2  449.99  2.6  4.0  128.0    1        0\n",
       "3  499.99  2.5  4.0  320.0    1        0\n",
       "5  699.95  2.5  4.0  128.0    1        1"
      ]
     },
     "execution_count": 155,
     "metadata": {},
     "output_type": "execute_result"
    }
   ],
   "source": [
    "data_c.head()"
   ]
  },
  {
   "cell_type": "code",
   "execution_count": 156,
   "id": "c4ecb5bc",
   "metadata": {},
   "outputs": [
    {
     "data": {
      "text/plain": [
       "(196, 6)"
      ]
     },
     "execution_count": 156,
     "metadata": {},
     "output_type": "execute_result"
    }
   ],
   "source": [
    "data_c.shape"
   ]
  },
  {
   "cell_type": "markdown",
   "id": "2dffbb37",
   "metadata": {},
   "source": [
    "## Fit Regression"
   ]
  },
  {
   "cell_type": "code",
   "execution_count": 130,
   "id": "ef98512d",
   "metadata": {},
   "outputs": [],
   "source": [
    "import statsmodels.api as sm\n",
    "from scipy import stats"
   ]
  },
  {
   "cell_type": "code",
   "execution_count": 131,
   "id": "f307c7cb",
   "metadata": {},
   "outputs": [],
   "source": [
    "def fit_regression(df, formula):\n",
    "    fitLm = sm.OLS.from_formula(formula, data = df).fit()\n",
    "    return fitLm.summary()"
   ]
  },
  {
   "cell_type": "code",
   "execution_count": 44,
   "id": "9be841ff",
   "metadata": {},
   "outputs": [
    {
     "data": {
      "text/html": [
       "<table class=\"simpletable\">\n",
       "<caption>OLS Regression Results</caption>\n",
       "<tr>\n",
       "  <th>Dep. Variable:</th>          <td>price</td>      <th>  R-squared:         </th> <td>   0.326</td>\n",
       "</tr>\n",
       "<tr>\n",
       "  <th>Model:</th>                   <td>OLS</td>       <th>  Adj. R-squared:    </th> <td>   0.309</td>\n",
       "</tr>\n",
       "<tr>\n",
       "  <th>Method:</th>             <td>Least Squares</td>  <th>  F-statistic:       </th> <td>   18.40</td>\n",
       "</tr>\n",
       "<tr>\n",
       "  <th>Date:</th>             <td>Tue, 06 Sep 2022</td> <th>  Prob (F-statistic):</th> <td>6.94e-15</td>\n",
       "</tr>\n",
       "<tr>\n",
       "  <th>Time:</th>                 <td>22:23:23</td>     <th>  Log-Likelihood:    </th> <td> -1170.6</td>\n",
       "</tr>\n",
       "<tr>\n",
       "  <th>No. Observations:</th>      <td>   196</td>      <th>  AIC:               </th> <td>   2353.</td>\n",
       "</tr>\n",
       "<tr>\n",
       "  <th>Df Residuals:</th>          <td>   190</td>      <th>  BIC:               </th> <td>   2373.</td>\n",
       "</tr>\n",
       "<tr>\n",
       "  <th>Df Model:</th>              <td>     5</td>      <th>                     </th>     <td> </td>   \n",
       "</tr>\n",
       "<tr>\n",
       "  <th>Covariance Type:</th>      <td>nonrobust</td>    <th>                     </th>     <td> </td>   \n",
       "</tr>\n",
       "</table>\n",
       "<table class=\"simpletable\">\n",
       "<tr>\n",
       "      <td></td>         <th>coef</th>     <th>std err</th>      <th>t</th>      <th>P>|t|</th>  <th>[0.025</th>    <th>0.975]</th>  \n",
       "</tr>\n",
       "<tr>\n",
       "  <th>Intercept</th> <td> -183.3446</td> <td>  168.588</td> <td>   -1.088</td> <td> 0.278</td> <td> -515.889</td> <td>  149.200</td>\n",
       "</tr>\n",
       "<tr>\n",
       "  <th>ghz</th>       <td>  164.2781</td> <td>   66.081</td> <td>    2.486</td> <td> 0.014</td> <td>   33.931</td> <td>  294.625</td>\n",
       "</tr>\n",
       "<tr>\n",
       "  <th>ram</th>       <td>    6.4290</td> <td>    3.623</td> <td>    1.775</td> <td> 0.078</td> <td>   -0.717</td> <td>   13.575</td>\n",
       "</tr>\n",
       "<tr>\n",
       "  <th>hd</th>        <td>    0.1820</td> <td>    0.077</td> <td>    2.375</td> <td> 0.019</td> <td>    0.031</td> <td>    0.333</td>\n",
       "</tr>\n",
       "<tr>\n",
       "  <th>BIN</th>       <td>   78.8573</td> <td>   13.924</td> <td>    5.663</td> <td> 0.000</td> <td>   51.392</td> <td>  106.323</td>\n",
       "</tr>\n",
       "<tr>\n",
       "  <th>ssd_SSD</th>   <td>   89.2853</td> <td>   16.054</td> <td>    5.562</td> <td> 0.000</td> <td>   57.618</td> <td>  120.952</td>\n",
       "</tr>\n",
       "</table>\n",
       "<table class=\"simpletable\">\n",
       "<tr>\n",
       "  <th>Omnibus:</th>       <td>10.072</td> <th>  Durbin-Watson:     </th> <td>   1.938</td>\n",
       "</tr>\n",
       "<tr>\n",
       "  <th>Prob(Omnibus):</th> <td> 0.007</td> <th>  Jarque-Bera (JB):  </th> <td>  13.233</td>\n",
       "</tr>\n",
       "<tr>\n",
       "  <th>Skew:</th>          <td> 0.355</td> <th>  Prob(JB):          </th> <td> 0.00134</td>\n",
       "</tr>\n",
       "<tr>\n",
       "  <th>Kurtosis:</th>      <td> 4.057</td> <th>  Cond. No.          </th> <td>5.48e+03</td>\n",
       "</tr>\n",
       "</table><br/><br/>Notes:<br/>[1] Standard Errors assume that the covariance matrix of the errors is correctly specified.<br/>[2] The condition number is large, 5.48e+03. This might indicate that there are<br/>strong multicollinearity or other numerical problems."
      ],
      "text/plain": [
       "<class 'statsmodels.iolib.summary.Summary'>\n",
       "\"\"\"\n",
       "                            OLS Regression Results                            \n",
       "==============================================================================\n",
       "Dep. Variable:                  price   R-squared:                       0.326\n",
       "Model:                            OLS   Adj. R-squared:                  0.309\n",
       "Method:                 Least Squares   F-statistic:                     18.40\n",
       "Date:                Tue, 06 Sep 2022   Prob (F-statistic):           6.94e-15\n",
       "Time:                        22:23:23   Log-Likelihood:                -1170.6\n",
       "No. Observations:                 196   AIC:                             2353.\n",
       "Df Residuals:                     190   BIC:                             2373.\n",
       "Df Model:                           5                                         \n",
       "Covariance Type:            nonrobust                                         \n",
       "==============================================================================\n",
       "                 coef    std err          t      P>|t|      [0.025      0.975]\n",
       "------------------------------------------------------------------------------\n",
       "Intercept   -183.3446    168.588     -1.088      0.278    -515.889     149.200\n",
       "ghz          164.2781     66.081      2.486      0.014      33.931     294.625\n",
       "ram            6.4290      3.623      1.775      0.078      -0.717      13.575\n",
       "hd             0.1820      0.077      2.375      0.019       0.031       0.333\n",
       "BIN           78.8573     13.924      5.663      0.000      51.392     106.323\n",
       "ssd_SSD       89.2853     16.054      5.562      0.000      57.618     120.952\n",
       "==============================================================================\n",
       "Omnibus:                       10.072   Durbin-Watson:                   1.938\n",
       "Prob(Omnibus):                  0.007   Jarque-Bera (JB):               13.233\n",
       "Skew:                           0.355   Prob(JB):                      0.00134\n",
       "Kurtosis:                       4.057   Cond. No.                     5.48e+03\n",
       "==============================================================================\n",
       "\n",
       "Notes:\n",
       "[1] Standard Errors assume that the covariance matrix of the errors is correctly specified.\n",
       "[2] The condition number is large, 5.48e+03. This might indicate that there are\n",
       "strong multicollinearity or other numerical problems.\n",
       "\"\"\""
      ]
     },
     "execution_count": 44,
     "metadata": {},
     "output_type": "execute_result"
    }
   ],
   "source": [
    "fit_regression(data_c, '''price ~ ghz + ram + hd + BIN + ssd_SSD''')"
   ]
  },
  {
   "cell_type": "code",
   "execution_count": 45,
   "id": "65f623bc",
   "metadata": {},
   "outputs": [
    {
     "data": {
      "text/html": [
       "<table class=\"simpletable\">\n",
       "<caption>OLS Regression Results</caption>\n",
       "<tr>\n",
       "  <th>Dep. Variable:</th>          <td>price</td>      <th>  R-squared (uncentered):</th>      <td>   0.943</td> \n",
       "</tr>\n",
       "<tr>\n",
       "  <th>Model:</th>                   <td>OLS</td>       <th>  Adj. R-squared (uncentered):</th> <td>   0.942</td> \n",
       "</tr>\n",
       "<tr>\n",
       "  <th>Method:</th>             <td>Least Squares</td>  <th>  F-statistic:       </th>          <td>   637.7</td> \n",
       "</tr>\n",
       "<tr>\n",
       "  <th>Date:</th>             <td>Tue, 06 Sep 2022</td> <th>  Prob (F-statistic):</th>          <td>4.50e-117</td>\n",
       "</tr>\n",
       "<tr>\n",
       "  <th>Time:</th>                 <td>22:23:41</td>     <th>  Log-Likelihood:    </th>          <td> -1171.2</td> \n",
       "</tr>\n",
       "<tr>\n",
       "  <th>No. Observations:</th>      <td>   196</td>      <th>  AIC:               </th>          <td>   2352.</td> \n",
       "</tr>\n",
       "<tr>\n",
       "  <th>Df Residuals:</th>          <td>   191</td>      <th>  BIC:               </th>          <td>   2369.</td> \n",
       "</tr>\n",
       "<tr>\n",
       "  <th>Df Model:</th>              <td>     5</td>      <th>                     </th>              <td> </td>    \n",
       "</tr>\n",
       "<tr>\n",
       "  <th>Covariance Type:</th>      <td>nonrobust</td>    <th>                     </th>              <td> </td>    \n",
       "</tr>\n",
       "</table>\n",
       "<table class=\"simpletable\">\n",
       "<tr>\n",
       "     <td></td>        <th>coef</th>     <th>std err</th>      <th>t</th>      <th>P>|t|</th>  <th>[0.025</th>    <th>0.975]</th>  \n",
       "</tr>\n",
       "<tr>\n",
       "  <th>ghz</th>     <td>   93.2250</td> <td>    9.912</td> <td>    9.405</td> <td> 0.000</td> <td>   73.674</td> <td>  112.776</td>\n",
       "</tr>\n",
       "<tr>\n",
       "  <th>ram</th>     <td>    6.6121</td> <td>    3.620</td> <td>    1.826</td> <td> 0.069</td> <td>   -0.529</td> <td>   13.753</td>\n",
       "</tr>\n",
       "<tr>\n",
       "  <th>hd</th>      <td>    0.1707</td> <td>    0.076</td> <td>    2.247</td> <td> 0.026</td> <td>    0.021</td> <td>    0.320</td>\n",
       "</tr>\n",
       "<tr>\n",
       "  <th>BIN</th>     <td>   78.0466</td> <td>   13.911</td> <td>    5.611</td> <td> 0.000</td> <td>   50.608</td> <td>  105.485</td>\n",
       "</tr>\n",
       "<tr>\n",
       "  <th>ssd_SSD</th> <td>   90.2518</td> <td>   16.037</td> <td>    5.628</td> <td> 0.000</td> <td>   58.619</td> <td>  121.884</td>\n",
       "</tr>\n",
       "</table>\n",
       "<table class=\"simpletable\">\n",
       "<tr>\n",
       "  <th>Omnibus:</th>       <td>11.146</td> <th>  Durbin-Watson:     </th> <td>   1.951</td>\n",
       "</tr>\n",
       "<tr>\n",
       "  <th>Prob(Omnibus):</th> <td> 0.004</td> <th>  Jarque-Bera (JB):  </th> <td>  15.006</td>\n",
       "</tr>\n",
       "<tr>\n",
       "  <th>Skew:</th>          <td> 0.382</td> <th>  Prob(JB):          </th> <td>0.000551</td>\n",
       "</tr>\n",
       "<tr>\n",
       "  <th>Kurtosis:</th>      <td> 4.120</td> <th>  Cond. No.          </th> <td>    491.</td>\n",
       "</tr>\n",
       "</table><br/><br/>Notes:<br/>[1] R² is computed without centering (uncentered) since the model does not contain a constant.<br/>[2] Standard Errors assume that the covariance matrix of the errors is correctly specified."
      ],
      "text/plain": [
       "<class 'statsmodels.iolib.summary.Summary'>\n",
       "\"\"\"\n",
       "                                 OLS Regression Results                                \n",
       "=======================================================================================\n",
       "Dep. Variable:                  price   R-squared (uncentered):                   0.943\n",
       "Model:                            OLS   Adj. R-squared (uncentered):              0.942\n",
       "Method:                 Least Squares   F-statistic:                              637.7\n",
       "Date:                Tue, 06 Sep 2022   Prob (F-statistic):                   4.50e-117\n",
       "Time:                        22:23:41   Log-Likelihood:                         -1171.2\n",
       "No. Observations:                 196   AIC:                                      2352.\n",
       "Df Residuals:                     191   BIC:                                      2369.\n",
       "Df Model:                           5                                                  \n",
       "Covariance Type:            nonrobust                                                  \n",
       "==============================================================================\n",
       "                 coef    std err          t      P>|t|      [0.025      0.975]\n",
       "------------------------------------------------------------------------------\n",
       "ghz           93.2250      9.912      9.405      0.000      73.674     112.776\n",
       "ram            6.6121      3.620      1.826      0.069      -0.529      13.753\n",
       "hd             0.1707      0.076      2.247      0.026       0.021       0.320\n",
       "BIN           78.0466     13.911      5.611      0.000      50.608     105.485\n",
       "ssd_SSD       90.2518     16.037      5.628      0.000      58.619     121.884\n",
       "==============================================================================\n",
       "Omnibus:                       11.146   Durbin-Watson:                   1.951\n",
       "Prob(Omnibus):                  0.004   Jarque-Bera (JB):               15.006\n",
       "Skew:                           0.382   Prob(JB):                     0.000551\n",
       "Kurtosis:                       4.120   Cond. No.                         491.\n",
       "==============================================================================\n",
       "\n",
       "Notes:\n",
       "[1] R² is computed without centering (uncentered) since the model does not contain a constant.\n",
       "[2] Standard Errors assume that the covariance matrix of the errors is correctly specified.\n",
       "\"\"\""
      ]
     },
     "execution_count": 45,
     "metadata": {},
     "output_type": "execute_result"
    }
   ],
   "source": [
    "fit_regression(data_c, '''price ~ ghz + ram + hd + BIN + ssd_SSD - 1''')"
   ]
  },
  {
   "cell_type": "code",
   "execution_count": 157,
   "id": "4b2e8ba8",
   "metadata": {},
   "outputs": [
    {
     "data": {
      "text/html": [
       "<table class=\"simpletable\">\n",
       "<caption>OLS Regression Results</caption>\n",
       "<tr>\n",
       "  <th>Dep. Variable:</th>          <td>price</td>      <th>  R-squared (uncentered):</th>      <td>   0.945</td> \n",
       "</tr>\n",
       "<tr>\n",
       "  <th>Model:</th>                   <td>OLS</td>       <th>  Adj. R-squared (uncentered):</th> <td>   0.944</td> \n",
       "</tr>\n",
       "<tr>\n",
       "  <th>Method:</th>             <td>Least Squares</td>  <th>  F-statistic:       </th>          <td>   548.4</td> \n",
       "</tr>\n",
       "<tr>\n",
       "  <th>Date:</th>             <td>Fri, 09 Sep 2022</td> <th>  Prob (F-statistic):</th>          <td>4.42e-117</td>\n",
       "</tr>\n",
       "<tr>\n",
       "  <th>Time:</th>                 <td>16:16:35</td>     <th>  Log-Likelihood:    </th>          <td> -1167.8</td> \n",
       "</tr>\n",
       "<tr>\n",
       "  <th>No. Observations:</th>      <td>   196</td>      <th>  AIC:               </th>          <td>   2348.</td> \n",
       "</tr>\n",
       "<tr>\n",
       "  <th>Df Residuals:</th>          <td>   190</td>      <th>  BIC:               </th>          <td>   2367.</td> \n",
       "</tr>\n",
       "<tr>\n",
       "  <th>Df Model:</th>              <td>     6</td>      <th>                     </th>              <td> </td>    \n",
       "</tr>\n",
       "<tr>\n",
       "  <th>Covariance Type:</th>      <td>nonrobust</td>    <th>                     </th>              <td> </td>    \n",
       "</tr>\n",
       "</table>\n",
       "<table class=\"simpletable\">\n",
       "<tr>\n",
       "       <td></td>         <th>coef</th>     <th>std err</th>      <th>t</th>      <th>P>|t|</th>  <th>[0.025</th>    <th>0.975]</th>  \n",
       "</tr>\n",
       "<tr>\n",
       "  <th>ghz</th>        <td>   99.1300</td> <td>   10.029</td> <td>    9.885</td> <td> 0.000</td> <td>   79.348</td> <td>  118.912</td>\n",
       "</tr>\n",
       "<tr>\n",
       "  <th>ram</th>        <td>    6.0820</td> <td>    3.573</td> <td>    1.702</td> <td> 0.090</td> <td>   -0.966</td> <td>   13.130</td>\n",
       "</tr>\n",
       "<tr>\n",
       "  <th>hd</th>         <td>    0.1009</td> <td>    0.080</td> <td>    1.268</td> <td> 0.206</td> <td>   -0.056</td> <td>    0.258</td>\n",
       "</tr>\n",
       "<tr>\n",
       "  <th>BIN</th>        <td>   81.8321</td> <td>   13.784</td> <td>    5.937</td> <td> 0.000</td> <td>   54.642</td> <td>  109.022</td>\n",
       "</tr>\n",
       "<tr>\n",
       "  <th>ssd_SSD</th>    <td>    7.4155</td> <td>   35.639</td> <td>    0.208</td> <td> 0.835</td> <td>  -62.884</td> <td>   77.715</td>\n",
       "</tr>\n",
       "<tr>\n",
       "  <th>ssd_SSD:hd</th> <td>    0.5348</td> <td>    0.206</td> <td>    2.593</td> <td> 0.010</td> <td>    0.128</td> <td>    0.942</td>\n",
       "</tr>\n",
       "</table>\n",
       "<table class=\"simpletable\">\n",
       "<tr>\n",
       "  <th>Omnibus:</th>       <td>11.724</td> <th>  Durbin-Watson:     </th> <td>   1.975</td>\n",
       "</tr>\n",
       "<tr>\n",
       "  <th>Prob(Omnibus):</th> <td> 0.003</td> <th>  Jarque-Bera (JB):  </th> <td>  19.447</td>\n",
       "</tr>\n",
       "<tr>\n",
       "  <th>Skew:</th>          <td> 0.314</td> <th>  Prob(JB):          </th> <td>5.99e-05</td>\n",
       "</tr>\n",
       "<tr>\n",
       "  <th>Kurtosis:</th>      <td> 4.409</td> <th>  Cond. No.          </th> <td>1.14e+03</td>\n",
       "</tr>\n",
       "</table><br/><br/>Notes:<br/>[1] R² is computed without centering (uncentered) since the model does not contain a constant.<br/>[2] Standard Errors assume that the covariance matrix of the errors is correctly specified.<br/>[3] The condition number is large, 1.14e+03. This might indicate that there are<br/>strong multicollinearity or other numerical problems."
      ],
      "text/plain": [
       "<class 'statsmodels.iolib.summary.Summary'>\n",
       "\"\"\"\n",
       "                                 OLS Regression Results                                \n",
       "=======================================================================================\n",
       "Dep. Variable:                  price   R-squared (uncentered):                   0.945\n",
       "Model:                            OLS   Adj. R-squared (uncentered):              0.944\n",
       "Method:                 Least Squares   F-statistic:                              548.4\n",
       "Date:                Fri, 09 Sep 2022   Prob (F-statistic):                   4.42e-117\n",
       "Time:                        16:16:35   Log-Likelihood:                         -1167.8\n",
       "No. Observations:                 196   AIC:                                      2348.\n",
       "Df Residuals:                     190   BIC:                                      2367.\n",
       "Df Model:                           6                                                  \n",
       "Covariance Type:            nonrobust                                                  \n",
       "==============================================================================\n",
       "                 coef    std err          t      P>|t|      [0.025      0.975]\n",
       "------------------------------------------------------------------------------\n",
       "ghz           99.1300     10.029      9.885      0.000      79.348     118.912\n",
       "ram            6.0820      3.573      1.702      0.090      -0.966      13.130\n",
       "hd             0.1009      0.080      1.268      0.206      -0.056       0.258\n",
       "BIN           81.8321     13.784      5.937      0.000      54.642     109.022\n",
       "ssd_SSD        7.4155     35.639      0.208      0.835     -62.884      77.715\n",
       "ssd_SSD:hd     0.5348      0.206      2.593      0.010       0.128       0.942\n",
       "==============================================================================\n",
       "Omnibus:                       11.724   Durbin-Watson:                   1.975\n",
       "Prob(Omnibus):                  0.003   Jarque-Bera (JB):               19.447\n",
       "Skew:                           0.314   Prob(JB):                     5.99e-05\n",
       "Kurtosis:                       4.409   Cond. No.                     1.14e+03\n",
       "==============================================================================\n",
       "\n",
       "Notes:\n",
       "[1] R² is computed without centering (uncentered) since the model does not contain a constant.\n",
       "[2] Standard Errors assume that the covariance matrix of the errors is correctly specified.\n",
       "[3] The condition number is large, 1.14e+03. This might indicate that there are\n",
       "strong multicollinearity or other numerical problems.\n",
       "\"\"\""
      ]
     },
     "execution_count": 157,
     "metadata": {},
     "output_type": "execute_result"
    }
   ],
   "source": [
    "fit_regression(data_c, '''price ~ ghz + ram + hd + BIN + ssd_SSD + ssd_SSD:hd - 1''')"
   ]
  },
  {
   "cell_type": "code",
   "execution_count": 47,
   "id": "cfa67d52",
   "metadata": {},
   "outputs": [
    {
     "data": {
      "text/html": [
       "<table class=\"simpletable\">\n",
       "<caption>OLS Regression Results</caption>\n",
       "<tr>\n",
       "  <th>Dep. Variable:</th>          <td>price</td>      <th>  R-squared (uncentered):</th>      <td>   0.945</td> \n",
       "</tr>\n",
       "<tr>\n",
       "  <th>Model:</th>                   <td>OLS</td>       <th>  Adj. R-squared (uncentered):</th> <td>   0.944</td> \n",
       "</tr>\n",
       "<tr>\n",
       "  <th>Method:</th>             <td>Least Squares</td>  <th>  F-statistic:       </th>          <td>   661.4</td> \n",
       "</tr>\n",
       "<tr>\n",
       "  <th>Date:</th>             <td>Tue, 06 Sep 2022</td> <th>  Prob (F-statistic):</th>          <td>1.67e-118</td>\n",
       "</tr>\n",
       "<tr>\n",
       "  <th>Time:</th>                 <td>22:24:43</td>     <th>  Log-Likelihood:    </th>          <td> -1167.8</td> \n",
       "</tr>\n",
       "<tr>\n",
       "  <th>No. Observations:</th>      <td>   196</td>      <th>  AIC:               </th>          <td>   2346.</td> \n",
       "</tr>\n",
       "<tr>\n",
       "  <th>Df Residuals:</th>          <td>   191</td>      <th>  BIC:               </th>          <td>   2362.</td> \n",
       "</tr>\n",
       "<tr>\n",
       "  <th>Df Model:</th>              <td>     5</td>      <th>                     </th>              <td> </td>    \n",
       "</tr>\n",
       "<tr>\n",
       "  <th>Covariance Type:</th>      <td>nonrobust</td>    <th>                     </th>              <td> </td>    \n",
       "</tr>\n",
       "</table>\n",
       "<table class=\"simpletable\">\n",
       "<tr>\n",
       "       <td></td>         <th>coef</th>     <th>std err</th>      <th>t</th>      <th>P>|t|</th>  <th>[0.025</th>    <th>0.975]</th>  \n",
       "</tr>\n",
       "<tr>\n",
       "  <th>ghz</th>        <td>   99.6917</td> <td>    9.634</td> <td>   10.348</td> <td> 0.000</td> <td>   80.689</td> <td>  118.695</td>\n",
       "</tr>\n",
       "<tr>\n",
       "  <th>ram</th>        <td>    6.1673</td> <td>    3.541</td> <td>    1.742</td> <td> 0.083</td> <td>   -0.817</td> <td>   13.151</td>\n",
       "</tr>\n",
       "<tr>\n",
       "  <th>hd</th>         <td>    0.0934</td> <td>    0.071</td> <td>    1.319</td> <td> 0.189</td> <td>   -0.046</td> <td>    0.233</td>\n",
       "</tr>\n",
       "<tr>\n",
       "  <th>BIN</th>        <td>   82.1043</td> <td>   13.688</td> <td>    5.998</td> <td> 0.000</td> <td>   55.106</td> <td>  109.103</td>\n",
       "</tr>\n",
       "<tr>\n",
       "  <th>ssd_SSD:hd</th> <td>    0.5732</td> <td>    0.091</td> <td>    6.285</td> <td> 0.000</td> <td>    0.393</td> <td>    0.753</td>\n",
       "</tr>\n",
       "</table>\n",
       "<table class=\"simpletable\">\n",
       "<tr>\n",
       "  <th>Omnibus:</th>       <td>11.628</td> <th>  Durbin-Watson:     </th> <td>   1.975</td>\n",
       "</tr>\n",
       "<tr>\n",
       "  <th>Prob(Omnibus):</th> <td> 0.003</td> <th>  Jarque-Bera (JB):  </th> <td>  19.614</td>\n",
       "</tr>\n",
       "<tr>\n",
       "  <th>Skew:</th>          <td> 0.303</td> <th>  Prob(JB):          </th> <td>5.51e-05</td>\n",
       "</tr>\n",
       "<tr>\n",
       "  <th>Kurtosis:</th>      <td> 4.426</td> <th>  Cond. No.          </th> <td>    462.</td>\n",
       "</tr>\n",
       "</table><br/><br/>Notes:<br/>[1] R² is computed without centering (uncentered) since the model does not contain a constant.<br/>[2] Standard Errors assume that the covariance matrix of the errors is correctly specified."
      ],
      "text/plain": [
       "<class 'statsmodels.iolib.summary.Summary'>\n",
       "\"\"\"\n",
       "                                 OLS Regression Results                                \n",
       "=======================================================================================\n",
       "Dep. Variable:                  price   R-squared (uncentered):                   0.945\n",
       "Model:                            OLS   Adj. R-squared (uncentered):              0.944\n",
       "Method:                 Least Squares   F-statistic:                              661.4\n",
       "Date:                Tue, 06 Sep 2022   Prob (F-statistic):                   1.67e-118\n",
       "Time:                        22:24:43   Log-Likelihood:                         -1167.8\n",
       "No. Observations:                 196   AIC:                                      2346.\n",
       "Df Residuals:                     191   BIC:                                      2362.\n",
       "Df Model:                           5                                                  \n",
       "Covariance Type:            nonrobust                                                  \n",
       "==============================================================================\n",
       "                 coef    std err          t      P>|t|      [0.025      0.975]\n",
       "------------------------------------------------------------------------------\n",
       "ghz           99.6917      9.634     10.348      0.000      80.689     118.695\n",
       "ram            6.1673      3.541      1.742      0.083      -0.817      13.151\n",
       "hd             0.0934      0.071      1.319      0.189      -0.046       0.233\n",
       "BIN           82.1043     13.688      5.998      0.000      55.106     109.103\n",
       "ssd_SSD:hd     0.5732      0.091      6.285      0.000       0.393       0.753\n",
       "==============================================================================\n",
       "Omnibus:                       11.628   Durbin-Watson:                   1.975\n",
       "Prob(Omnibus):                  0.003   Jarque-Bera (JB):               19.614\n",
       "Skew:                           0.303   Prob(JB):                     5.51e-05\n",
       "Kurtosis:                       4.426   Cond. No.                         462.\n",
       "==============================================================================\n",
       "\n",
       "Notes:\n",
       "[1] R² is computed without centering (uncentered) since the model does not contain a constant.\n",
       "[2] Standard Errors assume that the covariance matrix of the errors is correctly specified.\n",
       "\"\"\""
      ]
     },
     "execution_count": 47,
     "metadata": {},
     "output_type": "execute_result"
    }
   ],
   "source": [
    "fit_regression(data_c, '''price ~ ghz + ram + hd + BIN + ssd_SSD:hd - 1''')"
   ]
  },
  {
   "cell_type": "code",
   "execution_count": 48,
   "id": "e322f0c8",
   "metadata": {},
   "outputs": [
    {
     "data": {
      "text/html": [
       "<table class=\"simpletable\">\n",
       "<caption>OLS Regression Results</caption>\n",
       "<tr>\n",
       "  <th>Dep. Variable:</th>          <td>price</td>      <th>  R-squared (uncentered):</th>      <td>   0.945</td> \n",
       "</tr>\n",
       "<tr>\n",
       "  <th>Model:</th>                   <td>OLS</td>       <th>  Adj. R-squared (uncentered):</th> <td>   0.944</td> \n",
       "</tr>\n",
       "<tr>\n",
       "  <th>Method:</th>             <td>Least Squares</td>  <th>  F-statistic:       </th>          <td>   823.2</td> \n",
       "</tr>\n",
       "<tr>\n",
       "  <th>Date:</th>             <td>Tue, 06 Sep 2022</td> <th>  Prob (F-statistic):</th>          <td>1.30e-119</td>\n",
       "</tr>\n",
       "<tr>\n",
       "  <th>Time:</th>                 <td>22:25:59</td>     <th>  Log-Likelihood:    </th>          <td> -1168.7</td> \n",
       "</tr>\n",
       "<tr>\n",
       "  <th>No. Observations:</th>      <td>   196</td>      <th>  AIC:               </th>          <td>   2345.</td> \n",
       "</tr>\n",
       "<tr>\n",
       "  <th>Df Residuals:</th>          <td>   192</td>      <th>  BIC:               </th>          <td>   2358.</td> \n",
       "</tr>\n",
       "<tr>\n",
       "  <th>Df Model:</th>              <td>     4</td>      <th>                     </th>              <td> </td>    \n",
       "</tr>\n",
       "<tr>\n",
       "  <th>Covariance Type:</th>      <td>nonrobust</td>    <th>                     </th>              <td> </td>    \n",
       "</tr>\n",
       "</table>\n",
       "<table class=\"simpletable\">\n",
       "<tr>\n",
       "       <td></td>         <th>coef</th>     <th>std err</th>      <th>t</th>      <th>P>|t|</th>  <th>[0.025</th>    <th>0.975]</th>  \n",
       "</tr>\n",
       "<tr>\n",
       "  <th>ghz</th>        <td>  106.1462</td> <td>    8.316</td> <td>   12.765</td> <td> 0.000</td> <td>   89.744</td> <td>  122.548</td>\n",
       "</tr>\n",
       "<tr>\n",
       "  <th>ram</th>        <td>    6.7179</td> <td>    3.523</td> <td>    1.907</td> <td> 0.058</td> <td>   -0.230</td> <td>   13.666</td>\n",
       "</tr>\n",
       "<tr>\n",
       "  <th>BIN</th>        <td>   79.7740</td> <td>   13.599</td> <td>    5.866</td> <td> 0.000</td> <td>   52.951</td> <td>  106.597</td>\n",
       "</tr>\n",
       "<tr>\n",
       "  <th>ssd_SSD:hd</th> <td>    0.5531</td> <td>    0.090</td> <td>    6.139</td> <td> 0.000</td> <td>    0.375</td> <td>    0.731</td>\n",
       "</tr>\n",
       "</table>\n",
       "<table class=\"simpletable\">\n",
       "<tr>\n",
       "  <th>Omnibus:</th>       <td>11.121</td> <th>  Durbin-Watson:     </th> <td>   1.928</td>\n",
       "</tr>\n",
       "<tr>\n",
       "  <th>Prob(Omnibus):</th> <td> 0.004</td> <th>  Jarque-Bera (JB):  </th> <td>  20.130</td>\n",
       "</tr>\n",
       "<tr>\n",
       "  <th>Skew:</th>          <td> 0.252</td> <th>  Prob(JB):          </th> <td>4.25e-05</td>\n",
       "</tr>\n",
       "<tr>\n",
       "  <th>Kurtosis:</th>      <td> 4.487</td> <th>  Cond. No.          </th> <td>    210.</td>\n",
       "</tr>\n",
       "</table><br/><br/>Notes:<br/>[1] R² is computed without centering (uncentered) since the model does not contain a constant.<br/>[2] Standard Errors assume that the covariance matrix of the errors is correctly specified."
      ],
      "text/plain": [
       "<class 'statsmodels.iolib.summary.Summary'>\n",
       "\"\"\"\n",
       "                                 OLS Regression Results                                \n",
       "=======================================================================================\n",
       "Dep. Variable:                  price   R-squared (uncentered):                   0.945\n",
       "Model:                            OLS   Adj. R-squared (uncentered):              0.944\n",
       "Method:                 Least Squares   F-statistic:                              823.2\n",
       "Date:                Tue, 06 Sep 2022   Prob (F-statistic):                   1.30e-119\n",
       "Time:                        22:25:59   Log-Likelihood:                         -1168.7\n",
       "No. Observations:                 196   AIC:                                      2345.\n",
       "Df Residuals:                     192   BIC:                                      2358.\n",
       "Df Model:                           4                                                  \n",
       "Covariance Type:            nonrobust                                                  \n",
       "==============================================================================\n",
       "                 coef    std err          t      P>|t|      [0.025      0.975]\n",
       "------------------------------------------------------------------------------\n",
       "ghz          106.1462      8.316     12.765      0.000      89.744     122.548\n",
       "ram            6.7179      3.523      1.907      0.058      -0.230      13.666\n",
       "BIN           79.7740     13.599      5.866      0.000      52.951     106.597\n",
       "ssd_SSD:hd     0.5531      0.090      6.139      0.000       0.375       0.731\n",
       "==============================================================================\n",
       "Omnibus:                       11.121   Durbin-Watson:                   1.928\n",
       "Prob(Omnibus):                  0.004   Jarque-Bera (JB):               20.130\n",
       "Skew:                           0.252   Prob(JB):                     4.25e-05\n",
       "Kurtosis:                       4.487   Cond. No.                         210.\n",
       "==============================================================================\n",
       "\n",
       "Notes:\n",
       "[1] R² is computed without centering (uncentered) since the model does not contain a constant.\n",
       "[2] Standard Errors assume that the covariance matrix of the errors is correctly specified.\n",
       "\"\"\""
      ]
     },
     "execution_count": 48,
     "metadata": {},
     "output_type": "execute_result"
    }
   ],
   "source": [
    "fit_regression(data_c, '''price ~ ghz + ram + BIN + ssd_SSD:hd - 1''')"
   ]
  },
  {
   "cell_type": "code",
   "execution_count": 50,
   "id": "e66dcb2f",
   "metadata": {},
   "outputs": [
    {
     "data": {
      "text/html": [
       "<table class=\"simpletable\">\n",
       "<caption>OLS Regression Results</caption>\n",
       "<tr>\n",
       "  <th>Dep. Variable:</th>          <td>price</td>      <th>  R-squared (uncentered):</th>      <td>   0.944</td> \n",
       "</tr>\n",
       "<tr>\n",
       "  <th>Model:</th>                   <td>OLS</td>       <th>  Adj. R-squared (uncentered):</th> <td>   0.943</td> \n",
       "</tr>\n",
       "<tr>\n",
       "  <th>Method:</th>             <td>Least Squares</td>  <th>  F-statistic:       </th>          <td>   1082.</td> \n",
       "</tr>\n",
       "<tr>\n",
       "  <th>Date:</th>             <td>Tue, 06 Sep 2022</td> <th>  Prob (F-statistic):</th>          <td>2.19e-120</td>\n",
       "</tr>\n",
       "<tr>\n",
       "  <th>Time:</th>                 <td>22:27:24</td>     <th>  Log-Likelihood:    </th>          <td> -1170.5</td> \n",
       "</tr>\n",
       "<tr>\n",
       "  <th>No. Observations:</th>      <td>   196</td>      <th>  AIC:               </th>          <td>   2347.</td> \n",
       "</tr>\n",
       "<tr>\n",
       "  <th>Df Residuals:</th>          <td>   193</td>      <th>  BIC:               </th>          <td>   2357.</td> \n",
       "</tr>\n",
       "<tr>\n",
       "  <th>Df Model:</th>              <td>     3</td>      <th>                     </th>              <td> </td>    \n",
       "</tr>\n",
       "<tr>\n",
       "  <th>Covariance Type:</th>      <td>nonrobust</td>    <th>                     </th>              <td> </td>    \n",
       "</tr>\n",
       "</table>\n",
       "<table class=\"simpletable\">\n",
       "<tr>\n",
       "       <td></td>         <th>coef</th>     <th>std err</th>      <th>t</th>      <th>P>|t|</th>  <th>[0.025</th>    <th>0.975]</th>  \n",
       "</tr>\n",
       "<tr>\n",
       "  <th>ghz</th>        <td>  119.6604</td> <td>    4.380</td> <td>   27.318</td> <td> 0.000</td> <td>  111.021</td> <td>  128.300</td>\n",
       "</tr>\n",
       "<tr>\n",
       "  <th>BIN</th>        <td>   78.5721</td> <td>   13.677</td> <td>    5.745</td> <td> 0.000</td> <td>   51.596</td> <td>  105.548</td>\n",
       "</tr>\n",
       "<tr>\n",
       "  <th>ssd_SSD:hd</th> <td>    0.6134</td> <td>    0.085</td> <td>    7.222</td> <td> 0.000</td> <td>    0.446</td> <td>    0.781</td>\n",
       "</tr>\n",
       "</table>\n",
       "<table class=\"simpletable\">\n",
       "<tr>\n",
       "  <th>Omnibus:</th>       <td>10.784</td> <th>  Durbin-Watson:     </th> <td>   1.973</td>\n",
       "</tr>\n",
       "<tr>\n",
       "  <th>Prob(Omnibus):</th> <td> 0.005</td> <th>  Jarque-Bera (JB):  </th> <td>  19.019</td>\n",
       "</tr>\n",
       "<tr>\n",
       "  <th>Skew:</th>          <td> 0.251</td> <th>  Prob(JB):          </th> <td>7.42e-05</td>\n",
       "</tr>\n",
       "<tr>\n",
       "  <th>Kurtosis:</th>      <td> 4.441</td> <th>  Cond. No.          </th> <td>    206.</td>\n",
       "</tr>\n",
       "</table><br/><br/>Notes:<br/>[1] R² is computed without centering (uncentered) since the model does not contain a constant.<br/>[2] Standard Errors assume that the covariance matrix of the errors is correctly specified."
      ],
      "text/plain": [
       "<class 'statsmodels.iolib.summary.Summary'>\n",
       "\"\"\"\n",
       "                                 OLS Regression Results                                \n",
       "=======================================================================================\n",
       "Dep. Variable:                  price   R-squared (uncentered):                   0.944\n",
       "Model:                            OLS   Adj. R-squared (uncentered):              0.943\n",
       "Method:                 Least Squares   F-statistic:                              1082.\n",
       "Date:                Tue, 06 Sep 2022   Prob (F-statistic):                   2.19e-120\n",
       "Time:                        22:27:24   Log-Likelihood:                         -1170.5\n",
       "No. Observations:                 196   AIC:                                      2347.\n",
       "Df Residuals:                     193   BIC:                                      2357.\n",
       "Df Model:                           3                                                  \n",
       "Covariance Type:            nonrobust                                                  \n",
       "==============================================================================\n",
       "                 coef    std err          t      P>|t|      [0.025      0.975]\n",
       "------------------------------------------------------------------------------\n",
       "ghz          119.6604      4.380     27.318      0.000     111.021     128.300\n",
       "BIN           78.5721     13.677      5.745      0.000      51.596     105.548\n",
       "ssd_SSD:hd     0.6134      0.085      7.222      0.000       0.446       0.781\n",
       "==============================================================================\n",
       "Omnibus:                       10.784   Durbin-Watson:                   1.973\n",
       "Prob(Omnibus):                  0.005   Jarque-Bera (JB):               19.019\n",
       "Skew:                           0.251   Prob(JB):                     7.42e-05\n",
       "Kurtosis:                       4.441   Cond. No.                         206.\n",
       "==============================================================================\n",
       "\n",
       "Notes:\n",
       "[1] R² is computed without centering (uncentered) since the model does not contain a constant.\n",
       "[2] Standard Errors assume that the covariance matrix of the errors is correctly specified.\n",
       "\"\"\""
      ]
     },
     "execution_count": 50,
     "metadata": {},
     "output_type": "execute_result"
    }
   ],
   "source": [
    "fit_regression(data_c, '''price ~ ghz + BIN + ssd_SSD:hd - 1''')"
   ]
  },
  {
   "cell_type": "markdown",
   "id": "b96ee697",
   "metadata": {},
   "source": [
    "I chose the model with `ghz`, `ram`, `BIN`, and interaction between `ssd` and `hd` to be a final model for computer suggestion."
   ]
  }
 ],
 "metadata": {
  "kernelspec": {
   "display_name": "Python 3 (ipykernel)",
   "language": "python",
   "name": "python3"
  },
  "language_info": {
   "codemirror_mode": {
    "name": "ipython",
    "version": 3
   },
   "file_extension": ".py",
   "mimetype": "text/x-python",
   "name": "python",
   "nbconvert_exporter": "python",
   "pygments_lexer": "ipython3",
   "version": "3.9.7"
  }
 },
 "nbformat": 4,
 "nbformat_minor": 5
}
